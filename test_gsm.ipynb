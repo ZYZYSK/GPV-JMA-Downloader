{
 "metadata": {
  "language_info": {
   "codemirror_mode": {
    "name": "ipython",
    "version": 3
   },
   "file_extension": ".py",
   "mimetype": "text/x-python",
   "name": "python",
   "nbconvert_exporter": "python",
   "pygments_lexer": "ipython3",
   "version": "3.7.8-final"
  },
  "orig_nbformat": 2,
  "kernelspec": {
   "name": "python3",
   "display_name": "Python 3.7.8 64-bit ('weather': conda)",
   "metadata": {
    "interpreter": {
     "hash": "93da147e0502a31d9e460d96a1a4d207cf711935164f7588447437ab8cdf637c"
    }
   }
  }
 },
 "nbformat": 4,
 "nbformat_minor": 2,
 "cells": [
  {
   "cell_type": "code",
   "execution_count": 5,
   "metadata": {},
   "outputs": [],
   "source": [
    "import os\n",
    "import shutil\n",
    "import sys\n",
    "import time as tm\n",
    "import datetime\n",
    "import requests\n",
    "from concurrent import futures\n",
    "import signal\n",
    "import json\n",
    "from pathlib import Path\n",
    "\n",
    "import numpy as np\n",
    "import cartopy.crs as ccrs\n",
    "import cartopy.feature as cfeature\n",
    "import matplotlib.pyplot as plt\n",
    "import matplotlib.ticker as mticker\n",
    "from matplotlib import cm\n",
    "from matplotlib.colors import ListedColormap\n",
    "from metpy.units import units\n",
    "import metpy.calc as mpcalc\n",
    "from scipy.ndimage import gaussian_filter\n",
    "import pygrib as grib"
   ]
  },
  {
   "source": [
    "grib2=grib.open('/mnt/d/Downloads/test.bin')"
   ],
   "cell_type": "code",
   "metadata": {},
   "execution_count": 7,
   "outputs": []
  },
  {
   "cell_type": "code",
   "execution_count": 10,
   "metadata": {},
   "outputs": [
    {
     "output_type": "stream",
     "name": "stdout",
     "text": [
      "1:Pressure reduced to MSL:Pa (instant):regular_ll:meanSea:level 0:fcst time 6 hrs:from 202101310000\n2:Surface pressure:Pa (instant):regular_ll:surface:level 0:fcst time 6 hrs:from 202101310000\n3:10 metre U wind component:m s**-1 (instant):regular_ll:heightAboveGround:level 10 m:fcst time 6 hrs:from 202101310000\n4:10 metre V wind component:m s**-1 (instant):regular_ll:heightAboveGround:level 10 m:fcst time 6 hrs:from 202101310000\n5:2 metre temperature:K (instant):regular_ll:heightAboveGround:level 2 m:fcst time 6 hrs:from 202101310000\n6:2 metre relative humidity:% (instant):regular_ll:heightAboveGround:level 2 m:fcst time 6 hrs:from 202101310000\n7:Low cloud cover:% (instant):regular_ll:surface:level 0:fcst time 6 hrs:from 202101310000\n8:Medium cloud cover:% (instant):regular_ll:surface:level 0:fcst time 6 hrs:from 202101310000\n9:High cloud cover:% (instant):regular_ll:surface:level 0:fcst time 6 hrs:from 202101310000\n10:Total cloud cover:% (instant):regular_ll:surface:level 0:fcst time 6 hrs:from 202101310000\n11:Total precipitation:kg m-2 (accum):regular_ll:surface:level 0:fcst time 0-6 hrs (accum):from 202101310000\n12:Geopotential Height:gpm (instant):regular_ll:isobaricInhPa:level 100000.0 Pa:fcst time 6 hrs:from 202101310000\n13:U component of wind:m s**-1 (instant):regular_ll:isobaricInhPa:level 100000.0 Pa:fcst time 6 hrs:from 202101310000\n14:V component of wind:m s**-1 (instant):regular_ll:isobaricInhPa:level 100000.0 Pa:fcst time 6 hrs:from 202101310000\n15:Temperature:K (instant):regular_ll:isobaricInhPa:level 100000.0 Pa:fcst time 6 hrs:from 202101310000\n16:Vertical velocity:Pa s**-1 (instant):regular_ll:isobaricInhPa:level 100000.0 Pa:fcst time 6 hrs:from 202101310000\n17:Relative humidity:% (instant):regular_ll:isobaricInhPa:level 100000.0 Pa:fcst time 6 hrs:from 202101310000\n18:Geopotential Height:gpm (instant):regular_ll:isobaricInhPa:level 92500.0 Pa:fcst time 6 hrs:from 202101310000\n19:U component of wind:m s**-1 (instant):regular_ll:isobaricInhPa:level 92500.0 Pa:fcst time 6 hrs:from 202101310000\n20:V component of wind:m s**-1 (instant):regular_ll:isobaricInhPa:level 92500.0 Pa:fcst time 6 hrs:from 202101310000\n21:Temperature:K (instant):regular_ll:isobaricInhPa:level 92500.0 Pa:fcst time 6 hrs:from 202101310000\n22:Vertical velocity:Pa s**-1 (instant):regular_ll:isobaricInhPa:level 92500.0 Pa:fcst time 6 hrs:from 202101310000\n23:Relative humidity:% (instant):regular_ll:isobaricInhPa:level 92500.0 Pa:fcst time 6 hrs:from 202101310000\n24:Geopotential Height:gpm (instant):regular_ll:isobaricInhPa:level 85000.0 Pa:fcst time 6 hrs:from 202101310000\n25:U component of wind:m s**-1 (instant):regular_ll:isobaricInhPa:level 85000.0 Pa:fcst time 6 hrs:from 202101310000\n26:V component of wind:m s**-1 (instant):regular_ll:isobaricInhPa:level 85000.0 Pa:fcst time 6 hrs:from 202101310000\n27:Temperature:K (instant):regular_ll:isobaricInhPa:level 85000.0 Pa:fcst time 6 hrs:from 202101310000\n28:Vertical velocity:Pa s**-1 (instant):regular_ll:isobaricInhPa:level 85000.0 Pa:fcst time 6 hrs:from 202101310000\n29:Relative humidity:% (instant):regular_ll:isobaricInhPa:level 85000.0 Pa:fcst time 6 hrs:from 202101310000\n30:Geopotential Height:gpm (instant):regular_ll:isobaricInhPa:level 70000.0 Pa:fcst time 6 hrs:from 202101310000\n31:U component of wind:m s**-1 (instant):regular_ll:isobaricInhPa:level 70000.0 Pa:fcst time 6 hrs:from 202101310000\n32:V component of wind:m s**-1 (instant):regular_ll:isobaricInhPa:level 70000.0 Pa:fcst time 6 hrs:from 202101310000\n33:Temperature:K (instant):regular_ll:isobaricInhPa:level 70000.0 Pa:fcst time 6 hrs:from 202101310000\n34:Vertical velocity:Pa s**-1 (instant):regular_ll:isobaricInhPa:level 70000.0 Pa:fcst time 6 hrs:from 202101310000\n35:Relative humidity:% (instant):regular_ll:isobaricInhPa:level 70000.0 Pa:fcst time 6 hrs:from 202101310000\n36:Geopotential Height:gpm (instant):regular_ll:isobaricInhPa:level 60000.0 Pa:fcst time 6 hrs:from 202101310000\n37:U component of wind:m s**-1 (instant):regular_ll:isobaricInhPa:level 60000.0 Pa:fcst time 6 hrs:from 202101310000\n38:V component of wind:m s**-1 (instant):regular_ll:isobaricInhPa:level 60000.0 Pa:fcst time 6 hrs:from 202101310000\n39:Temperature:K (instant):regular_ll:isobaricInhPa:level 60000.0 Pa:fcst time 6 hrs:from 202101310000\n40:Vertical velocity:Pa s**-1 (instant):regular_ll:isobaricInhPa:level 60000.0 Pa:fcst time 6 hrs:from 202101310000\n41:Relative humidity:% (instant):regular_ll:isobaricInhPa:level 60000.0 Pa:fcst time 6 hrs:from 202101310000\n42:Geopotential Height:gpm (instant):regular_ll:isobaricInhPa:level 50000.0 Pa:fcst time 6 hrs:from 202101310000\n43:U component of wind:m s**-1 (instant):regular_ll:isobaricInhPa:level 50000.0 Pa:fcst time 6 hrs:from 202101310000\n44:V component of wind:m s**-1 (instant):regular_ll:isobaricInhPa:level 50000.0 Pa:fcst time 6 hrs:from 202101310000\n45:Temperature:K (instant):regular_ll:isobaricInhPa:level 50000.0 Pa:fcst time 6 hrs:from 202101310000\n46:Vertical velocity:Pa s**-1 (instant):regular_ll:isobaricInhPa:level 50000.0 Pa:fcst time 6 hrs:from 202101310000\n47:Relative humidity:% (instant):regular_ll:isobaricInhPa:level 50000.0 Pa:fcst time 6 hrs:from 202101310000\n48:Geopotential Height:gpm (instant):regular_ll:isobaricInhPa:level 40000.0 Pa:fcst time 6 hrs:from 202101310000\n49:U component of wind:m s**-1 (instant):regular_ll:isobaricInhPa:level 40000.0 Pa:fcst time 6 hrs:from 202101310000\n50:V component of wind:m s**-1 (instant):regular_ll:isobaricInhPa:level 40000.0 Pa:fcst time 6 hrs:from 202101310000\n51:Temperature:K (instant):regular_ll:isobaricInhPa:level 40000.0 Pa:fcst time 6 hrs:from 202101310000\n52:Vertical velocity:Pa s**-1 (instant):regular_ll:isobaricInhPa:level 40000.0 Pa:fcst time 6 hrs:from 202101310000\n53:Relative humidity:% (instant):regular_ll:isobaricInhPa:level 40000.0 Pa:fcst time 6 hrs:from 202101310000\n54:Geopotential Height:gpm (instant):regular_ll:isobaricInhPa:level 30000.0 Pa:fcst time 6 hrs:from 202101310000\n55:U component of wind:m s**-1 (instant):regular_ll:isobaricInhPa:level 30000.0 Pa:fcst time 6 hrs:from 202101310000\n56:V component of wind:m s**-1 (instant):regular_ll:isobaricInhPa:level 30000.0 Pa:fcst time 6 hrs:from 202101310000\n57:Temperature:K (instant):regular_ll:isobaricInhPa:level 30000.0 Pa:fcst time 6 hrs:from 202101310000\n58:Vertical velocity:Pa s**-1 (instant):regular_ll:isobaricInhPa:level 30000.0 Pa:fcst time 6 hrs:from 202101310000\n59:Relative humidity:% (instant):regular_ll:isobaricInhPa:level 30000.0 Pa:fcst time 6 hrs:from 202101310000\n60:Geopotential Height:gpm (instant):regular_ll:isobaricInhPa:level 25000.0 Pa:fcst time 6 hrs:from 202101310000\n61:U component of wind:m s**-1 (instant):regular_ll:isobaricInhPa:level 25000.0 Pa:fcst time 6 hrs:from 202101310000\n62:V component of wind:m s**-1 (instant):regular_ll:isobaricInhPa:level 25000.0 Pa:fcst time 6 hrs:from 202101310000\n63:Temperature:K (instant):regular_ll:isobaricInhPa:level 25000.0 Pa:fcst time 6 hrs:from 202101310000\n64:Vertical velocity:Pa s**-1 (instant):regular_ll:isobaricInhPa:level 25000.0 Pa:fcst time 6 hrs:from 202101310000\n65:Geopotential Height:gpm (instant):regular_ll:isobaricInhPa:level 20000.0 Pa:fcst time 6 hrs:from 202101310000\n66:U component of wind:m s**-1 (instant):regular_ll:isobaricInhPa:level 20000.0 Pa:fcst time 6 hrs:from 202101310000\n67:V component of wind:m s**-1 (instant):regular_ll:isobaricInhPa:level 20000.0 Pa:fcst time 6 hrs:from 202101310000\n68:Temperature:K (instant):regular_ll:isobaricInhPa:level 20000.0 Pa:fcst time 6 hrs:from 202101310000\n69:Vertical velocity:Pa s**-1 (instant):regular_ll:isobaricInhPa:level 20000.0 Pa:fcst time 6 hrs:from 202101310000\n70:Geopotential Height:gpm (instant):regular_ll:isobaricInhPa:level 15000.0 Pa:fcst time 6 hrs:from 202101310000\n71:U component of wind:m s**-1 (instant):regular_ll:isobaricInhPa:level 15000.0 Pa:fcst time 6 hrs:from 202101310000\n72:V component of wind:m s**-1 (instant):regular_ll:isobaricInhPa:level 15000.0 Pa:fcst time 6 hrs:from 202101310000\n73:Temperature:K (instant):regular_ll:isobaricInhPa:level 15000.0 Pa:fcst time 6 hrs:from 202101310000\n74:Vertical velocity:Pa s**-1 (instant):regular_ll:isobaricInhPa:level 15000.0 Pa:fcst time 6 hrs:from 202101310000\n75:Geopotential Height:gpm (instant):regular_ll:isobaricInhPa:level 10000.0 Pa:fcst time 6 hrs:from 202101310000\n76:U component of wind:m s**-1 (instant):regular_ll:isobaricInhPa:level 10000.0 Pa:fcst time 6 hrs:from 202101310000\n77:V component of wind:m s**-1 (instant):regular_ll:isobaricInhPa:level 10000.0 Pa:fcst time 6 hrs:from 202101310000\n78:Temperature:K (instant):regular_ll:isobaricInhPa:level 10000.0 Pa:fcst time 6 hrs:from 202101310000\n79:Vertical velocity:Pa s**-1 (instant):regular_ll:isobaricInhPa:level 10000.0 Pa:fcst time 6 hrs:from 202101310000\n80:Geopotential Height:gpm (instant):regular_ll:isobaricInhPa:level 7000.0 Pa:fcst time 6 hrs:from 202101310000\n81:U component of wind:m s**-1 (instant):regular_ll:isobaricInhPa:level 7000.0 Pa:fcst time 6 hrs:from 202101310000\n82:V component of wind:m s**-1 (instant):regular_ll:isobaricInhPa:level 7000.0 Pa:fcst time 6 hrs:from 202101310000\n83:Temperature:K (instant):regular_ll:isobaricInhPa:level 7000.0 Pa:fcst time 6 hrs:from 202101310000\n84:Vertical velocity:Pa s**-1 (instant):regular_ll:isobaricInhPa:level 7000.0 Pa:fcst time 6 hrs:from 202101310000\n85:Geopotential Height:gpm (instant):regular_ll:isobaricInhPa:level 5000.0 Pa:fcst time 6 hrs:from 202101310000\n86:U component of wind:m s**-1 (instant):regular_ll:isobaricInhPa:level 5000.0 Pa:fcst time 6 hrs:from 202101310000\n87:V component of wind:m s**-1 (instant):regular_ll:isobaricInhPa:level 5000.0 Pa:fcst time 6 hrs:from 202101310000\n88:Temperature:K (instant):regular_ll:isobaricInhPa:level 5000.0 Pa:fcst time 6 hrs:from 202101310000\n89:Vertical velocity:Pa s**-1 (instant):regular_ll:isobaricInhPa:level 5000.0 Pa:fcst time 6 hrs:from 202101310000\n90:Geopotential Height:gpm (instant):regular_ll:isobaricInhPa:level 3000.0 Pa:fcst time 6 hrs:from 202101310000\n91:U component of wind:m s**-1 (instant):regular_ll:isobaricInhPa:level 3000.0 Pa:fcst time 6 hrs:from 202101310000\n92:V component of wind:m s**-1 (instant):regular_ll:isobaricInhPa:level 3000.0 Pa:fcst time 6 hrs:from 202101310000\n93:Temperature:K (instant):regular_ll:isobaricInhPa:level 3000.0 Pa:fcst time 6 hrs:from 202101310000\n94:Vertical velocity:Pa s**-1 (instant):regular_ll:isobaricInhPa:level 3000.0 Pa:fcst time 6 hrs:from 202101310000\n95:Geopotential Height:gpm (instant):regular_ll:isobaricInhPa:level 2000.0 Pa:fcst time 6 hrs:from 202101310000\n96:U component of wind:m s**-1 (instant):regular_ll:isobaricInhPa:level 2000.0 Pa:fcst time 6 hrs:from 202101310000\n97:V component of wind:m s**-1 (instant):regular_ll:isobaricInhPa:level 2000.0 Pa:fcst time 6 hrs:from 202101310000\n98:Temperature:K (instant):regular_ll:isobaricInhPa:level 2000.0 Pa:fcst time 6 hrs:from 202101310000\n99:Vertical velocity:Pa s**-1 (instant):regular_ll:isobaricInhPa:level 2000.0 Pa:fcst time 6 hrs:from 202101310000\n100:Geopotential Height:gpm (instant):regular_ll:isobaricInhPa:level 1000.0 Pa:fcst time 6 hrs:from 202101310000\n101:U component of wind:m s**-1 (instant):regular_ll:isobaricInhPa:level 1000.0 Pa:fcst time 6 hrs:from 202101310000\n102:V component of wind:m s**-1 (instant):regular_ll:isobaricInhPa:level 1000.0 Pa:fcst time 6 hrs:from 202101310000\n103:Temperature:K (instant):regular_ll:isobaricInhPa:level 1000.0 Pa:fcst time 6 hrs:from 202101310000\n104:Vertical velocity:Pa s**-1 (instant):regular_ll:isobaricInhPa:level 1000.0 Pa:fcst time 6 hrs:from 202101310000\n"
     ]
    },
    {
     "output_type": "error",
     "ename": "OSError",
     "evalue": "not that many messages in file",
     "traceback": [
      "\u001b[0;31m---------------------------------------------------------------------------\u001b[0m",
      "\u001b[0;31mOSError\u001b[0m                                   Traceback (most recent call last)",
      "\u001b[0;32m<ipython-input-10-5a7077bd8216>\u001b[0m in \u001b[0;36m<module>\u001b[0;34m\u001b[0m\n\u001b[0;32m----> 1\u001b[0;31m \u001b[0;34m[\u001b[0m\u001b[0mprint\u001b[0m\u001b[0;34m(\u001b[0m\u001b[0mgrib2\u001b[0m\u001b[0;34m.\u001b[0m\u001b[0mmessage\u001b[0m\u001b[0;34m(\u001b[0m\u001b[0mi\u001b[0m\u001b[0;34m)\u001b[0m\u001b[0;34m)\u001b[0m \u001b[0;32mfor\u001b[0m \u001b[0mi\u001b[0m \u001b[0;32min\u001b[0m \u001b[0mrange\u001b[0m\u001b[0;34m(\u001b[0m\u001b[0;36m1\u001b[0m\u001b[0;34m,\u001b[0m \u001b[0;36m110\u001b[0m\u001b[0;34m)\u001b[0m\u001b[0;34m]\u001b[0m\u001b[0;34m\u001b[0m\u001b[0;34m\u001b[0m\u001b[0m\n\u001b[0m",
      "\u001b[0;32m<ipython-input-10-5a7077bd8216>\u001b[0m in \u001b[0;36m<listcomp>\u001b[0;34m(.0)\u001b[0m\n\u001b[0;32m----> 1\u001b[0;31m \u001b[0;34m[\u001b[0m\u001b[0mprint\u001b[0m\u001b[0;34m(\u001b[0m\u001b[0mgrib2\u001b[0m\u001b[0;34m.\u001b[0m\u001b[0mmessage\u001b[0m\u001b[0;34m(\u001b[0m\u001b[0mi\u001b[0m\u001b[0;34m)\u001b[0m\u001b[0;34m)\u001b[0m \u001b[0;32mfor\u001b[0m \u001b[0mi\u001b[0m \u001b[0;32min\u001b[0m \u001b[0mrange\u001b[0m\u001b[0;34m(\u001b[0m\u001b[0;36m1\u001b[0m\u001b[0;34m,\u001b[0m \u001b[0;36m110\u001b[0m\u001b[0;34m)\u001b[0m\u001b[0;34m]\u001b[0m\u001b[0;34m\u001b[0m\u001b[0;34m\u001b[0m\u001b[0m\n\u001b[0m",
      "\u001b[0;32mpygrib.pyx\u001b[0m in \u001b[0;36mpygrib.open.message\u001b[0;34m()\u001b[0m\n",
      "\u001b[0;32mpygrib.pyx\u001b[0m in \u001b[0;36mpygrib.open._advance\u001b[0;34m()\u001b[0m\n",
      "\u001b[0;31mOSError\u001b[0m: not that many messages in file"
     ]
    }
   ],
   "source": [
    "[print(grib2.message(i)) for i in range(1, 110)]"
   ]
  }
 ]
}